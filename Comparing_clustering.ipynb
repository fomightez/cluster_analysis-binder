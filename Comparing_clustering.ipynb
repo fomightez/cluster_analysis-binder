{
 "cells": [
  {
   "cell_type": "markdown",
   "metadata": {},
   "source": [
    "## Comparing clustering results\n",
    "\n",
    "This brings together some topic covered already and expands on them with a way to determine a metric of similarity for corresponding clusters from different sources.\n",
    "\n",
    "### Setting up different sources\n",
    "\n",
    "For preparing data to compare want slightly different assignments, we want two different results. \n",
    "\n",
    "Will use Hierarchical Clustering with assigned 'wrong' number of clusters, four when it should be three, from the bottom of [Hierarchical_clustering.ipynb](Hierarchical_clustering.ipynb).\n",
    "\n",
    "Note that the 'membership report' has been left off the output here for brevity. Later, using a membership report to get data needed for calculating `sklearn.metrics.adjusted_rand_score()` for comparing the results of clustering is covered and how to get that report will be recalled there."
   ]
  },
  {
   "cell_type": "code",
   "execution_count": 1,
   "metadata": {},
   "outputs": [],
   "source": [
    "import seaborn as sns\n",
    "def plot_corr(df,size=10):\n",
    "    '''Plot a graphical correlation matrix for a dataframe.\n",
    "\n",
    "    Input:\n",
    "        df: pandas DataFrame\n",
    "        size: vertical and horizontal size of the plot\n",
    "        \n",
    "    based on https://github.com/TheLoneNut/CorrelationMatrixClustering/blob/master/CorrelationMatrixClustering.ipynb\n",
    "    and converted to using Seaborn \n",
    "    and adding plotting only lower triangular of the matrix\n",
    "    by Wayne 6-10-2020\n",
    "    '''\n",
    "    \n",
    "    %matplotlib inline\n",
    "    import matplotlib.pyplot as plt\n",
    "\n",
    "    # Compute the correlation matrix for the received dataframe\n",
    "    corr_df = df.corr()\n",
    "    \n",
    "    # make the mask based on https://cmdlinetips.com/2020/02/lower-triangle-correlation-heatmap-python/\n",
    "    mask_ut=np.triu(np.ones(corr_df.shape)).astype(np.bool)\n",
    "    #print( mask_ut)  # FOR DEBUGGING\n",
    "    \n",
    "    # Plot the correlation matrix\n",
    "    '''\n",
    "    fig, ax = plt.subplots(figsize=(size, size))\n",
    "    cax = ax.matshow(corr, cmap='RdYlGn')\n",
    "    plt.xticks(range(len(corr.columns)), corr.columns, rotation=90);\n",
    "    plt.yticks(range(len(corr.columns)), corr.columns);\n",
    "    \n",
    "    # Add the colorbar legend\n",
    "    cbar = fig.colorbar(cax, ticks=[-1, 0, 1], aspect=40, shrink=.8)\n",
    "    '''\n",
    "    # Plot the correlation matrix\n",
    "    fig, ax = plt.subplots(figsize=(size+2, size))\n",
    "    sns.heatmap(corr_df, mask=mask_ut, cmap=\"RdYlGn\")\n",
    "    \n",
    "import pandas as pd\n",
    "import numpy as np\n",
    "\n",
    "# Generate 50 variables with 1000 samples\n",
    "n_variables = 50\n",
    "n_samples = 1000\n",
    "\n",
    "# Those variables will be spread over 3 clusters of variable sizes\n",
    "cluster_size = [5,22,28]\n",
    "n_clusters = len(cluster_size)\n",
    "\n",
    "# Assign each variable to a cluster\n",
    "belongs_to_cluster = [i for i, c in enumerate(cluster_size) for n in range(c)]\n",
    "np.random.shuffle(belongs_to_cluster)\n",
    "\n",
    "# This latent data is used to make variables that belong\n",
    "# to the same cluster correlated.\n",
    "latent = np.random.randn(n_clusters, n_samples)\n",
    "\n",
    "variables = []\n",
    "for i in range(n_variables):\n",
    "    variables.append(np.random.randn(n_samples) + latent[belongs_to_cluster[i], :])\n",
    "\n",
    "df = pd.DataFrame(np.array(variables).transpose())"
   ]
  },
  {
   "cell_type": "markdown",
   "metadata": {},
   "source": [
    "Example using first-pass example (fifth code cell if running notebook linearly) from above to specify four clusters:"
   ]
  },
  {
   "cell_type": "code",
   "execution_count": 2,
   "metadata": {},
   "outputs": [
    {
     "name": "stdout",
     "output_type": "stream",
     "text": [
      "number of clusters determined: 4\n",
      "24 variables in cluster 1\n",
      "5 variables in cluster 2\n",
      "11 variables in cluster 3\n",
      "10 variables in cluster 4\n"
     ]
    }
   ],
   "source": [
    "import scipy\n",
    "import scipy.cluster.hierarchy as sch\n",
    "\n",
    "\n",
    "X = df.corr().values\n",
    "d = sch.distance.pdist(X)   # vector of ('55' choose 2) pairwise distances\n",
    "L = sch.linkage(d, method='complete')\n",
    "k = 4\n",
    "ind = sch.fcluster(L, k, criterion='maxclust')\n",
    "columns = [df.columns.tolist()[i] for i in list((np.argsort(ind)))]\n",
    "df_clustered_hc = df.reindex(columns, axis=1) # this line updated from source because `df.reindex_axis()` deprecated\n",
    "\n",
    "print(\"number of clusters determined:\",len(np.unique(ind)))\n",
    "for x in np.unique(ind):\n",
    "    class_members = [xc for xc in ind if xc == x]\n",
    "    print(f\"{len(class_members)} variables in cluster {x}\")\n",
    "\n",
    "clusterBYindex = zip(ind.tolist(),df.columns)\n",
    "from collections import defaultdict \n",
    "cluster_assignments_hc = defaultdict(list)\n",
    "for x in clusterBYindex:\n",
    "    cluster_assignments_hc[x[0]].append(x[1])\n",
    "    \n",
    "#plot_corr(df_clustered_hc, size=10)"
   ]
  },
  {
   "cell_type": "markdown",
   "metadata": {},
   "source": [
    "Use DBSCAN clustering result to produce another result."
   ]
  },
  {
   "cell_type": "code",
   "execution_count": 3,
   "metadata": {},
   "outputs": [
    {
     "name": "stdout",
     "output_type": "stream",
     "text": [
      "Estimated number of clusters: 3\n",
      "Estimated number of noise points: 0\n",
      "21 variables in grouping 0\n",
      "24 variables in grouping 1\n",
      "5 variables in grouping 2\n"
     ]
    }
   ],
   "source": [
    "import scipy\n",
    "import scipy.cluster.hierarchy as sch\n",
    "from sklearn.cluster import DBSCAN\n",
    "from sklearn import metrics\n",
    "\n",
    "\n",
    "dfX = df.corr().values\n",
    "X = metrics.pairwise_distances(dfX) \n",
    "\n",
    "\n",
    "db = DBSCAN(eps=2.1, min_samples=3).fit(X)\n",
    "core_samples_mask = np.zeros_like(db.labels_, dtype=bool)\n",
    "core_samples_mask[db.core_sample_indices_] = True\n",
    "labels = db.labels_\n",
    "#print(labels)  #FOR DEBUGGING\n",
    "\n",
    "# Number of clusters in labels, ignoring noise if present.\n",
    "n_clusters_ = len(set(labels)) - (1 if -1 in labels else 0)\n",
    "n_noise_ = list(labels).count(-1)\n",
    "\n",
    "labels_true = False\n",
    "print('Estimated number of clusters: %d' % n_clusters_)\n",
    "print('Estimated number of noise points: %d' % n_noise_)\n",
    "for x in np.unique(labels):\n",
    "    class_members = [xc for xc in labels if xc == x]\n",
    "    print(f\"{len(class_members)} variables in grouping {x}\")\n",
    "# Membership report-lite (based on code first worked out under \n",
    "# 'Obtaining and viewing the cluster membership without the rest of plot' section of \n",
    "# my notebook `Correlation matrix clustering featuring heatmap plot with seaborn.ipynb`.)\n",
    "clusterBYindex = zip(labels.tolist(),df.columns)\n",
    "from collections import defaultdict \n",
    "cluster_assignments_db = defaultdict(list)\n",
    "for x in clusterBYindex:\n",
    "    cluster_assignments_db[x[0]].append(x[1])\n",
    "'''\n",
    "print(\"Cluster breakdown:\")\n",
    "for k,v in cluster_assignments_db.items():\n",
    "    print(f\"The {len(v)} members of cluster {k} are: {v}\")\n",
    "    print(f\"The SORTED {len(v)} members of cluster {k} are: {sorted(v)}\")\n",
    "'''\n",
    "\n",
    "columns = [df.columns.tolist()[i] for i in list((np.argsort(labels)))]\n",
    "df_clustered_db = df.reindex(columns, axis=1) # this line updated from source because `df.reindex_axis()` deprecated\n",
    "#plot_corr(df_clustered_db, size=10)"
   ]
  },
  {
   "cell_type": "markdown",
   "metadata": {},
   "source": [
    "### Compare clustering results from the two different approaches"
   ]
  },
  {
   "cell_type": "code",
   "execution_count": 4,
   "metadata": {
    "scrolled": true
   },
   "outputs": [
    {
     "data": {
      "image/png": "[encoded data removed]",
      "text/plain": [
       "<Figure size 720x50.4 with 1 Axes>"
      ]
     },
     "metadata": {
      "needs_background": "light"
     },
     "output_type": "display_data"
    },
    {
     "data": {
      "image/png": "[encoded data removed]",
      "text/plain": [
       "<Figure size 720x50.4 with 1 Axes>"
      ]
     },
     "metadata": {
      "needs_background": "light"
     },
     "output_type": "display_data"
    }
   ],
   "source": [
    "# Visualize members for each\n",
    "import seaborn as sns\n",
    "import pandas as pd\n",
    "import numpy as np\n",
    "import matplotlib.pyplot as plt\n",
    "\n",
    "# Prepare the data for DBSCAN\n",
    "data4df = labels\n",
    "df4view = pd.DataFrame(data4df)  #<--- note DO NOT USE `pd.DataFrame.from_records` here\n",
    "df4view = df4view.T\n",
    "labels4df = sorted(list(df_clustered_db.columns))\n",
    "df4view.columns = labels4df\n",
    "df4viewreoriented = df4view.T\n",
    "df4viewreoriented = df4viewreoriented.rename_axis('sample_ids')\n",
    "df4viewreoriented.columns = [\"cluster_num\"]\n",
    "df4viewreoriented = df4viewreoriented.sort_values(by = ['cluster_num', 'sample_ids'], ascending = [True, True])\n",
    "df4view = df4viewreoriented.T\n",
    "\n",
    "# Plot after data preparation\n",
    "flatui = [\"#9b59b6\", \"#3498db\", \"#95a5a6\", \"#e74c3c\", \"#34495e\", \"#2ecc71\"] # from https://seaborn.pydata.org/tutorial/color_palettes.html\n",
    "flatui = [ \"#3498db\", \"#9b59b6\", \"#95a5a6\", \"#2ecc71\",\"#34495e\"] # based on https://seaborn.pydata.org/tutorial/color_palettes.html\n",
    "plt.figure(figsize=(10, 0.7)) #from https://stackoverflow.com/a/55173418/8508004\n",
    "g = sns.heatmap(df4view, cmap=flatui,cbar=False) # hiding colorbar based \n",
    "# on https://stackoverflow.com/q/50454360/8508004\n",
    "\n",
    "g.set_yticklabels([\"\"]) \n",
    "plt.tick_params(\n",
    "    axis='y',          # changes apply to the x-axis\n",
    "    which='both',      # both major and minor ticks are affected\n",
    "    left=False,      # ticks along the left edge are off\n",
    ")\n",
    "g.set_xlabel(\"\") # when added column name to make the sorting work I had to then turn off;\n",
    "# used approach like mentioned above for determining `g.set_yticklabels([\"\"])` above\n",
    "\n",
    "plt.title(\"Color blocks indicates cluster membership from DBSCAN processing:\");\n",
    "\n",
    "# Prepare the data for hierarchichal clustering\n",
    "data4df = ind\n",
    "df4view = pd.DataFrame(data4df)  #<--- note DO NOT USE `pd.DataFrame.from_records` here\n",
    "df4view = df4view.T\n",
    "labels4df = sorted(list(df_clustered_hc.columns))\n",
    "df4view.columns = labels4df\n",
    "df4viewreoriented = df4view.T\n",
    "df4viewreoriented = df4viewreoriented.rename_axis('sample_ids')\n",
    "df4viewreoriented.columns = [\"cluster_num\"]\n",
    "df4viewreoriented = df4viewreoriented.sort_values(by = ['cluster_num', 'sample_ids'], ascending = [True, True])\n",
    "df4view = df4viewreoriented.T\n",
    "\n",
    "# Plot after data preparation\n",
    "plt.figure(figsize=(10, 0.7)) #from https://stackoverflow.com/a/55173418/8508004\n",
    "g = sns.heatmap(df4view, cmap=flatui,cbar=False) # hiding colorbar based \n",
    "# on https://stackoverflow.com/q/50454360/8508004\n",
    "\n",
    "g.set_yticklabels([\"\"])\n",
    "plt.tick_params(\n",
    "    axis='y',          # changes apply to the x-axis\n",
    "    which='both',      # both major and minor ticks are affected\n",
    "    left=False,      # ticks along the left edge are off\n",
    ")\n",
    "g.set_xlabel(\"\")\n",
    "plt.title(\"Color blocks indicates cluster membership from hierarchical clustering:\");"
   ]
  },
  {
   "cell_type": "markdown",
   "metadata": {},
   "source": [
    "You can see the difference there but what about metrics/scores that don't make you have to interpret similarity visually?\n",
    "\n",
    "There is [an evaluation metric](https://stackoverflow.com/a/45090023/8508004) built into scikit-learn, discussed towards the end of the [DBSCAN notebook](dbscan.ipynb) in this series of notebooks, that allows checking the clusters assigned and it will evaluate the assignments as matching, `adjusted_rand_score` of `1.0`, even if the specific cluster number assigned are different, i.e., see the `adjusted_rand_score([0, 0, 1, 1], [1, 1, 0, 0])` example [here](https://scikit-learn.org/stable/modules/generated/sklearn.metrics.adjusted_rand_score.html). Let's have it examine the two assignments here."
   ]
  },
  {
   "cell_type": "code",
   "execution_count": 5,
   "metadata": {},
   "outputs": [
    {
     "name": "stdout",
     "output_type": "stream",
     "text": [
      "The following are the cluster assignments for labels from the DBSCAN result:\n",
      "[0 0 1 1 2 0 0 1 0 1 1 2 1 0 0 1 2 1 0 1 1 0 2 1 1 0 0 0 0 0 1 1 1 2 1 1 0\n",
      " 1 0 0 1 0 1 1 1 1 0 1 0 0]\n",
      "The following are the cluster assignments for labels from the hierarchichal clustering:\n",
      "[4 3 1 1 2 3 3 1 3 1 1 2 1 4 3 1 2 1 4 1 1 4 2 1 1 3 3 4 3 4 1 1 1 2 1 1 3\n",
      " 1 3 4 1 4 1 1 1 1 4 1 3 4]\n",
      "The result with `adjusted_rand_score()` comparing the assignments:\n",
      "0.8068205603135599\n"
     ]
    }
   ],
   "source": [
    "print(f\"The following are the cluster assignments for labels from the DBSCAN result:\\n{labels}\")\n",
    "print(f\"The following are the cluster assignments for labels from the hierarchichal clustering:\\n{ind}\")\n",
    "from sklearn.metrics.cluster import adjusted_rand_score\n",
    "rand_scor= adjusted_rand_score(labels, ind)\n",
    "print(f\"The result with `adjusted_rand_score()` comparing the assignments:\\n{rand_scor}\")"
   ]
  },
  {
   "cell_type": "markdown",
   "metadata": {},
   "source": [
    "Unlike the case previously shown at the end of  end of the [DBSCAN notebook](dbscan.ipynb) in this series of notebooks, the assignments don't match perfectly, and we see a number less than `1.0`. However, the fact the score isn't close to `0.0` and the score is closer to one means the assignments match fairly well in this example.\n",
    "\n",
    "Let's get a sense of how the best corresponding clusters are represented among the two clustering results. Running the following cell will make a report detailing this with the DBSCAN results as the first provided set of assignments and the assignments for the 'purposefully-wrong' hierarchical clustering approach:"
   ]
  },
  {
   "cell_type": "code",
   "execution_count": 6,
   "metadata": {},
   "outputs": [
    {
     "name": "stdout",
     "output_type": "stream",
     "text": [
      "cluster 0 in first set of assignments is a best correspondence to cluster 3\n",
      "in second set of assignments & score of shared fraction across the longest axis of either:\n",
      "0.5238095238095238\n",
      "Details:\n",
      "cluster 0: [0, 1, 5, 6, 8, 13, 14, 18, 21, 25, 26, 27, 28, 29, 36, 38, 39, 41, 46, 48, 49]\n",
      "cluster 3: [1, 5, 6, 8, 14, 25, 26, 28, 36, 38, 48]\n",
      "These share: [1, 5, 6, 8, 14, 25, 26, 28, 36, 38, 48]\n",
      "\n",
      "cluster 1 in first set of assignments is a best correspondence to cluster 1\n",
      "in second set of assignments & score of shared fraction across the longest axis of either:\n",
      "1.0\n",
      "Details:\n",
      "cluster 1: [2, 3, 7, 9, 10, 12, 15, 17, 19, 20, 23, 24, 30, 31, 32, 34, 35, 37, 40, 42, 43, 44, 45, 47]\n",
      "cluster 1: [2, 3, 7, 9, 10, 12, 15, 17, 19, 20, 23, 24, 30, 31, 32, 34, 35, 37, 40, 42, 43, 44, 45, 47]\n",
      "These share: [2, 3, 7, 9, 10, 12, 15, 17, 19, 20, 23, 24, 30, 31, 32, 34, 35, 37, 40, 42, 43, 44, 45, 47]\n",
      "\n",
      "cluster 2 in first set of assignments is a best correspondence to cluster 2\n",
      "in second set of assignments & score of shared fraction across the longest axis of either:\n",
      "1.0\n",
      "Details:\n",
      "cluster 2: [4, 11, 16, 22, 33]\n",
      "cluster 2: [4, 11, 16, 22, 33]\n",
      "These share: [4, 11, 16, 22, 33]\n",
      "\n"
     ]
    }
   ],
   "source": [
    "#BELOW adapted from code that was to be used to check how similar the clustermap \n",
    "# labels are and the two-pass clusters direct from SciPy in `Correlation matrix \n",
    "# hierarchical clustering featuring heatmap plot with seaborn.ipynb` in my \n",
    "# https://github.com/fomightez/cluster_analysis-binder repo, on 7-28-2020 to be \n",
    "# used in `Comparing_clusters.ipynb`\n",
    "# To check how similar the clusters are assigned between to clustering results. \n",
    "# I'm going iterate over the clusters in the fist set of data and compare what \n",
    "# fraction are represented in the corresponding one from the other set. There \n",
    "# can only be one reasonable correspondence, and so the one with the better \n",
    "# amount of matches will win out. (You could imagine for comparisons where there\n",
    "# is a different amont of clusters from each result, that you could allow the a \n",
    "# single cluster in one result to have a correspondence with more than one in \n",
    "# the other and still score fraction respresented.) For those with no good \n",
    "# correspondence, ie., multiple clusters have the same amount ot matches, I'll \n",
    "# report that.\n",
    "\n",
    "\n",
    "\n",
    "def tally_shared_for_cluster(members_list, cluster_assignments):\n",
    "    '''\n",
    "    Takes:\n",
    "    - a list of the members of one cluster\n",
    "    - cluster assignments dictionary with identifiers as keys and list of \n",
    "    corresponding members as value \n",
    "\n",
    "    Returns:\n",
    "    -  A list with number of matches for each cluster in the input cluster \n",
    "    assignments.\n",
    "    '''\n",
    "    shared = []\n",
    "    for curr_cluster_members in cluster_assignments.values():\n",
    "        shared.append(len(set(members_list).intersection(set(curr_cluster_members))))\n",
    "    return shared\n",
    "\n",
    "def compare_cluster_membership(cluster_assignmentsA, cluster_assignmentsB):\n",
    "    '''\n",
    "    Takes two clusters and compares the fraction of membership represented between \n",
    "    best correspondence for each cluster in the first set of assignments provided.\n",
    "\n",
    "    The cluster assignments are to be provided as dictionaries with the keys as \n",
    "    the cluster id and the calues as a list of members.\n",
    "    '''\n",
    "    best_correspondence = {}\n",
    "    score_per_cluster = {}\n",
    "    cluster_numberings_corresponding_already= []\n",
    "    results_fractions = []\n",
    "    results_clusters = []\n",
    "    poor_clusters = []\n",
    "    matches_inB_per_cluster_inA = {}\n",
    "    # Collect number of shared members present in B for each cluster in A\n",
    "    for cluster_id, cluster_members in cluster_assignmentsA.items():\n",
    "        # collect the number of shared members in the current cluster in the \n",
    "        # assignment from A with ALL the assignments from B. This will be a list\n",
    "        # for each cluster in cluster_assignmentsA with number of matches to\n",
    "        # each cluster in cluster_assignmentsB in order, so I can use the index\n",
    "        # of the match later as it will correspond to the index in \n",
    "        #`list(cluster_assignmentsB.items())`, or similar. However, because the\n",
    "        # dictionary keys can be in any order, convert back to actual key of \n",
    "        # assignment using `list(cluster_assignmentsB)[indx]` or similar when \n",
    "        # assigning correspondence.\n",
    "        shared_member_values = tally_shared_for_cluster(\n",
    "            cluster_members,cluster_assignmentsB)\n",
    "        matches_inB_per_cluster_inA[cluster_id] = shared_member_values\n",
    "    # Determine best in B for each cluster in A\n",
    "    for indx, (cluster_id, cluster_members) in enumerate(\n",
    "        cluster_assignmentsA.items()):\n",
    "        match_matrix = np.array(list(matches_inB_per_cluster_inA.values())) #see \n",
    "        # following for indexing 2d matrix: \n",
    "        #https://thispointer.com/python-numpy-select-rows-columns-by-index-from-a-2d-ndarray-multi-dimension/\n",
    "        \n",
    "        # Now go through the tallies and assign best correspondence. This is a \n",
    "        # separate iteration over `cluster_assignmentsA.items()` because need \n",
    "        # results for each cluster first so don't assign best match for one set of members of assignment A encountered first when there is a better match to that \n",
    "        # cluster among assignments A that will be iterated on later.\n",
    "        #  just because best match first encountered when there may be one later \n",
    "        # in elements of `cluster_assignmentsA.items()` that matches better to \n",
    "        # that cluster.\n",
    "        # identify best correspondence. This makes some assumptions:\n",
    "        # There can only be one reasonable correspondence, and so the one with \n",
    "        # the better amount of matches will win out. (You could imagine for \n",
    "        # comparisons where there is a different amont of clusters from each \n",
    "        # result, that you could allow the a single cluster in one result to \n",
    "        # have a correspondence with more than one in the other and still score \n",
    "        #fraction respresented.) For those with no good correspondence, ie., \n",
    "        # multiple clusters have the same amount ot matches, I'll report that.\n",
    "        top_matches_for_current_members = max(match_matrix[indx,:])\n",
    "        if list(match_matrix[indx,:]).count(\n",
    "            top_matches_for_current_members) == 1:\n",
    "            # Now make sure for the assignment with that index, there isn't a better\n",
    "            # option for that cluster in B for a cluster in A\n",
    "            indx_max = list(match_matrix[indx,:]).index(\n",
    "                top_matches_for_current_members)\n",
    "            if (max(match_matrix[:,indx_max]) == top_matches_for_current_members and list(match_matrix[:,indx_max]).count(top_matches_for_current_members) == 1):\n",
    "                best_correspondence[cluster_id] = list(\n",
    "                    cluster_assignmentsB)[indx_max]\n",
    "                # If there is a better option for that cluster in B, try with \n",
    "                # second best number of matches and progress cycling to next \n",
    "                # best, and again, etc.\n",
    "            else:\n",
    "                sorted_row = sorted(list(match_matrix[indx,:])) # based on\n",
    "                # https://www.geeksforgeeks.org/python-largest-smallest-second-largest-second-smallest-list/ , \n",
    "                # but fixed from `list(match_matrix[indx,:]).sort()` to \n",
    "                # `sorted(list(match_matrix[indx,:]))` so works on reults of \n",
    "                # numpy array slice.\n",
    "                for x in range (2,len(cluster_assignmentsA)):\n",
    "                    if len(sorted_row)-x > 0:\n",
    "                        match_num = sorted_row[len(sorted_row)-x]\n",
    "                        indx_match_num = list(\n",
    "                            match_matrix[indx,:]).index(match_num)\n",
    "                        if (max(match_matrix[:,indx_match_num]) == match_num and list(match_matrix[:,indx_match_num]).count(match_num) == 1):\n",
    "                                best_correspondence[cluster_id] = list(\n",
    "                                    cluster_assignmentsB)[indx_match_num]\n",
    "                                break\n",
    "                    else:\n",
    "                        best_correspondence[cluster_id] = \"No_good_correspondence\"\n",
    "                        #print(f\"There is no correspondence for cluster {cluster_id}.\")\n",
    "                        break\n",
    "                    best_correspondence[cluster_id] = \"No_good_correspondence\"\n",
    "                    #print(f\"There is no correspondence for cluster {cluster_id}.\")\n",
    "        else:\n",
    "            best_correspondence[cluster_id] = \"No_good_correspondence\"\n",
    "            #print(f\"There is no correspondence for cluster {cluster_id}.\")\n",
    "    # Not go through best correspondences, where there is one, and score \n",
    "    # fraction shared\n",
    "    for cluster_id,corr in best_correspondence.items():\n",
    "        if corr == \"No_good_correspondence\":\n",
    "            print(\"There is no correspondence in the second set of assignments \"\n",
    "                f\"provided for the cluster {cluster_id}\\nfrom the first set of \"\n",
    "                \"assignments.\\n\")\n",
    "            poor_clusters.append(cluster_id)\n",
    "            results_fractions.append(\"No_good_correspondence\")\n",
    "        else:\n",
    "            cluster_matches = (\n",
    "                set(cluster_assignmentsA[cluster_id]).intersection(\n",
    "                set(cluster_assignmentsB[corr])))\n",
    "            result = len(cluster_matches)/max(len(\n",
    "                cluster_assignmentsA[cluster_id]),len(\n",
    "                cluster_assignmentsB[corr])) # note using longest cluster among \n",
    "                #the two corrseponding so even if all of A is in B, if B is\n",
    "                # longer, it will not score as 1.0. Because it should somehow reflect they don't match 100%.\n",
    "            results_fractions.append(result)\n",
    "            print(f\"cluster {cluster_id} in first set of assignments is a best correspondence to cluster {corr}\\nin second set of assignments & score of shared fraction across the longest axis of either:\\n{result}\")\n",
    "            print(\"Details:\")\n",
    "            print(f\"cluster {cluster_id}: {sorted(cluster_assignmentsA[cluster_id])}\")\n",
    "            print(f\"cluster {corr}: {sorted(cluster_assignmentsB[corr])}\")\n",
    "            print(f\"These share: {sorted(list(cluster_matches))}\\n\")\n",
    "\n",
    "cluster_assignments_hc # data from hierarchical\n",
    "cluster_assignments_db # data from DBSCAN\n",
    "\n",
    "score_per_cluster = compare_cluster_membership(\n",
    "    cluster_assignments_db, cluster_assignments_hc)"
   ]
  },
  {
   "cell_type": "markdown",
   "metadata": {},
   "source": [
    "Note that the comparison isn't symmetrical as done here. So let's do that again with the assignments of the 'purposefully-wrong' hierarchical clustering, that has four clusters generated, with the assignments from the DBSCAN results as the second provided set of assignments to compare. "
   ]
  },
  {
   "cell_type": "code",
   "execution_count": 7,
   "metadata": {},
   "outputs": [
    {
     "name": "stdout",
     "output_type": "stream",
     "text": [
      "There is no correspondence in the second set of assignments provided for the cluster 4\n",
      "from the first set of assignments.\n",
      "\n",
      "cluster 3 in first set of assignments is a best correspondence to cluster 0\n",
      "in second set of assignments & score of shared fraction across the longest axis of either:\n",
      "0.5238095238095238\n",
      "Details:\n",
      "cluster 3: [1, 5, 6, 8, 14, 25, 26, 28, 36, 38, 48]\n",
      "cluster 0: [0, 1, 5, 6, 8, 13, 14, 18, 21, 25, 26, 27, 28, 29, 36, 38, 39, 41, 46, 48, 49]\n",
      "These share: [1, 5, 6, 8, 14, 25, 26, 28, 36, 38, 48]\n",
      "\n",
      "cluster 1 in first set of assignments is a best correspondence to cluster 1\n",
      "in second set of assignments & score of shared fraction across the longest axis of either:\n",
      "1.0\n",
      "Details:\n",
      "cluster 1: [2, 3, 7, 9, 10, 12, 15, 17, 19, 20, 23, 24, 30, 31, 32, 34, 35, 37, 40, 42, 43, 44, 45, 47]\n",
      "cluster 1: [2, 3, 7, 9, 10, 12, 15, 17, 19, 20, 23, 24, 30, 31, 32, 34, 35, 37, 40, 42, 43, 44, 45, 47]\n",
      "These share: [2, 3, 7, 9, 10, 12, 15, 17, 19, 20, 23, 24, 30, 31, 32, 34, 35, 37, 40, 42, 43, 44, 45, 47]\n",
      "\n",
      "cluster 2 in first set of assignments is a best correspondence to cluster 2\n",
      "in second set of assignments & score of shared fraction across the longest axis of either:\n",
      "1.0\n",
      "Details:\n",
      "cluster 2: [4, 11, 16, 22, 33]\n",
      "cluster 2: [4, 11, 16, 22, 33]\n",
      "These share: [4, 11, 16, 22, 33]\n",
      "\n"
     ]
    }
   ],
   "source": [
    "score_per_cluster = compare_cluster_membership(\n",
    "    cluster_assignments_hc, cluster_assignments_db)"
   ]
  },
  {
   "cell_type": "markdown",
   "metadata": {},
   "source": [
    "Note that depending on how the clusters specifically get generated, there is a chance you may see a split tie in the size of clusters corresponding and so it will call them both having no correspondence because the 'best' call cannot be made. And so you'll want to run this entire notbeook a few times and look at the output of this cell in light of the visual representation from the earlier cell to get a better sense of what insights it will reveal."
   ]
  },
  {
   "cell_type": "markdown",
   "metadata": {},
   "source": [
    "-----\n",
    "\n",
    "### Generating the list of cluster assignments after-the-fact and use with comparing clustering outcomes\n",
    "\n",
    "If you've run these notebooks, you've seen that the 'membership report' often generated detailing the output from a clustering. You may hae noted that output does not include the list of assignments, which is the data needed for calculating `sklearn.metrics.adjusted_rand_score()` that allows comparing clustering results.  \n",
    "Here will introduce use of a utility function to generate such a list of cluster assignments form the 'membership report'. Additionally, the use of that to compare the clustering results will be shown.\n",
    "\n",
    "Above we didn't generate the reports for the cluster results above in order to streamline the output. \n",
    "\n",
    "Below is the code you'd use to get each one, with the code for the DBSCAN clustering first as indicated by `_db` after `cluster_assignments`, and then likewise for the hierarchical clusterubg where you'l see `cluster_assignments_hc` referencing back to putput generated in cells run earlier. (In other words, you'd have to rerun the cells above first if you want to use such code. Code similar to this was commented out in the third code cell of this notebook.)\n",
    "\n",
    "```python\n",
    "print(\"Cluster breakdown:\")\n",
    "for k,v in cluster_assignments_db.items():\n",
    "    print(f\"The {len(v)} members of cluster {k} are: {v}\")\n",
    "    print(f\"The SORTED {len(v)} members of cluster {k} are: {sorted(v)}\")\n",
    "\n",
    "# For easier copying of the output, you'd want to run the four lines below in\n",
    "# a separate cell.\n",
    "print(\"Cluster breakdown:\")\n",
    "for k,v in cluster_assignments_hc.items():\n",
    "    print(f\"The {len(v)} members of cluster {k} are: {v}\")\n",
    "    print(f\"The SORTED {len(v)} members of cluster {k} are: {sorted(v)}\")\n",
    "```\n",
    "\n",
    "\n",
    "The output from a particular run for DBSCAN is found below, and it is has been converted into a string we can supply the functiton by placing it between triple quotes (series of three single-quotes):"
   ]
  },
  {
   "cell_type": "code",
   "execution_count": 1,
   "metadata": {},
   "outputs": [],
   "source": [
    "db_report = '''Cluster breakdown:\n",
    "The 26 members of cluster 0 are: [0, 1, 3, 4, 5, 6, 7, 11, 16, 17, 19, 25, 27, 28, 30, 31, 32, 33, 35, 42, 43, 44, 45, 46, 48, 49]\n",
    "The SORTED 26 members of cluster 0 are: [0, 1, 3, 4, 5, 6, 7, 11, 16, 17, 19, 25, 27, 28, 30, 31, 32, 33, 35, 42, 43, 44, 45, 46, 48, 49]\n",
    "The 20 members of cluster 1 are: [2, 8, 9, 10, 12, 13, 14, 15, 18, 20, 23, 24, 26, 34, 36, 37, 38, 39, 40, 47]\n",
    "The SORTED 20 members of cluster 1 are: [2, 8, 9, 10, 12, 13, 14, 15, 18, 20, 23, 24, 26, 34, 36, 37, 38, 39, 40, 47]\n",
    "The 4 members of cluster 2 are: [21, 22, 29, 41]\n",
    "The SORTED 4 members of cluster 2 are: [21, 22, 29, 41]\n",
    "'''"
   ]
  },
  {
   "cell_type": "markdown",
   "metadata": {},
   "source": [
    "And for a particular run of the hierarchical clustering:"
   ]
  },
  {
   "cell_type": "code",
   "execution_count": 2,
   "metadata": {},
   "outputs": [],
   "source": [
    "hc_report = '''Cluster breakdown:\n",
    "The 19 members of cluster 1 are: [0, 3, 4, 7, 11, 16, 17, 19, 25, 27, 30, 31, 33, 35, 42, 43, 44, 48, 49]\n",
    "The SORTED 19 members of cluster 1 are: [0, 3, 4, 7, 11, 16, 17, 19, 25, 27, 30, 31, 33, 35, 42, 43, 44, 48, 49]\n",
    "The 7 members of cluster 2 are: [1, 5, 6, 28, 32, 45, 46]\n",
    "The SORTED 7 members of cluster 2 are: [1, 5, 6, 28, 32, 45, 46]\n",
    "The 20 members of cluster 3 are: [2, 8, 9, 10, 12, 13, 14, 15, 18, 20, 23, 24, 26, 34, 36, 37, 38, 39, 40, 47]\n",
    "The SORTED 20 members of cluster 3 are: [2, 8, 9, 10, 12, 13, 14, 15, 18, 20, 23, 24, 26, 34, 36, 37, 38, 39, 40, 47]\n",
    "The 4 members of cluster 4 are: [21, 22, 29, 41]\n",
    "The SORTED 4 members of cluster 4 are: [21, 22, 29, 41]\n",
    "'''"
   ]
  },
  {
   "cell_type": "markdown",
   "metadata": {},
   "source": [
    "This is the code for the function and making the lists. Run this next cell:"
   ]
  },
  {
   "cell_type": "code",
   "execution_count": 3,
   "metadata": {},
   "outputs": [],
   "source": [
    "def cluster_report_string_back_to_ordered_cluster_assignment_list(\n",
    "    report_string):\n",
    "    '''\n",
    "    Takes a string representing a membership report as commonly made in the \n",
    "    series of notebooks that can be found at https://github.com/fomightez/cluster_analysis-binder\n",
    "\n",
    "    Returns a Python list that is the assignments of cluster numberings sorted \n",
    "    to correspond to the sorted version of the labels.\n",
    "    '''\n",
    "    # The first part of the function is based on code for parsing the membership \n",
    "    # report results from `plot_bend_for_clusters_with_average.py` and similar \n",
    "    # scripts.\n",
    "    #--------------------------------------------------------------------------#\n",
    "    # This section prepares the information contained in a membership report \n",
    "    # from a notebook for use here.\n",
    "\n",
    "    # Originally this section collected number of clusters from a SETTING and \n",
    "    # number of variables from another set of text but adjusted here to \n",
    "    # 'report-lite' style and commented out original.\n",
    "    ''''\n",
    "    number_of_clusters_txt = report_string.split(\n",
    "        \"Number of clusters SET AS \")[1].split(\" in the preparation.\")[0]\n",
    "    number_of_clusters = int(number_of_clusters_txt)\n",
    "    group_n_num_members_dict = {}\n",
    "    txt_for_grouping_nums = \" variables in grouping \"\n",
    "    for line in report_string.split(\"\\n\"):\n",
    "        if txt_for_grouping_nums in line:\n",
    "            group_num = int(line.split(txt_for_grouping_nums)[1])\n",
    "            num_memb = int(line.split(txt_for_grouping_nums)[0])\n",
    "            group_n_num_members_dict[group_num] = num_memb\n",
    "    '''\n",
    "    # this first pass through will just collect some data to be used later to\n",
    "    # make sure parsing consistent with what report says\n",
    "    group_n_num_members_dict = {}\n",
    "    txt_for_group_lines = \"The SORTED \"\n",
    "    txt_in_front_of_grps = \" members of cluster \"\n",
    "    for line in report_string.split(\"\\n\"):\n",
    "        if txt_for_group_lines in line:\n",
    "            group_num = int(line.split(txt_in_front_of_grps)[1].split()[0])\n",
    "            num_memb = int(line.split(txt_for_group_lines)[1].split()[0])\n",
    "            group_n_num_members_dict[group_num] = num_memb\n",
    "    number_of_clusters = len(group_n_num_members_dict)\n",
    "    # actual parsing BEGINS HERE\n",
    "    group_n_members_dict = {}\n",
    "    for line in report_string.split(\"\\n\"):\n",
    "        if line.startswith(txt_for_group_lines):\n",
    "            group_num = int(line.split(txt_in_front_of_grps)[1].split()[0])\n",
    "            members_txt = line.split(\"are: [\")[1].split(\"]\")[0]\n",
    "            # need to handle text labels and integers as labels slightly \n",
    "            # differently\n",
    "            if members_txt.startswith(\"'\"):\n",
    "                members = members_txt.split(\"', '\")\n",
    "                members[0] = members[0][1:]\n",
    "                if len(members) > 2:\n",
    "                    members[-1] = members[-1][:-1]\n",
    "            else:\n",
    "                members = members_txt.split(\",\")\n",
    "                members = [int(x) for x in members] # cast to integer as should be\n",
    "            num_memb = int(line.split(txt_for_group_lines)[1].split()[0])\n",
    "            group_n_members_dict[group_num] = members\n",
    "            # some extra checks to make sure everything is consistent\n",
    "            assert num_memb == len(members)\n",
    "            assert len(members) == group_n_num_members_dict[group_num]\n",
    "    # Go through ordered labels and get the assignments for returning\n",
    "    ordered_labels = sorted(\n",
    "        [x for sublst in group_n_members_dict.values() for x in sublst])\n",
    "    label_to_cluster_dict = (\n",
    "        {lbl:key for key,lbl_list in group_n_members_dict.items(\n",
    "            ) for lbl in lbl_list})\n",
    "    cluster_numberings_ordered_list = (\n",
    "        [label_to_cluster_dict[curr_label] for curr_label in ordered_labels])\n",
    "    return cluster_numberings_ordered_list, group_n_members_dict\n",
    "\n",
    "db_cluster_list,cluster_assignments_db_2nd = cluster_report_string_back_to_ordered_cluster_assignment_list(db_report)\n",
    "hc_cluster_list,cluster_assignments_hc = cluster_report_string_back_to_ordered_cluster_assignment_list(hc_report)"
   ]
  },
  {
   "cell_type": "markdown",
   "metadata": {},
   "source": [
    "You can verify that worked by using a `print()` to view the cluster assignments for each one:"
   ]
  },
  {
   "cell_type": "code",
   "execution_count": 4,
   "metadata": {},
   "outputs": [
    {
     "name": "stdout",
     "output_type": "stream",
     "text": [
      "[0, 0, 1, 0, 0, 0, 0, 0, 1, 1, 1, 0, 1, 1, 1, 1, 0, 0, 1, 0, 1, 2, 2, 1, 1, 0, 1, 0, 0, 2, 0, 0, 0, 0, 1, 0, 1, 1, 1, 1, 1, 2, 0, 0, 0, 0, 0, 1, 0, 0]\n"
     ]
    }
   ],
   "source": [
    "print(db_cluster_list)"
   ]
  },
  {
   "cell_type": "code",
   "execution_count": 5,
   "metadata": {},
   "outputs": [
    {
     "name": "stdout",
     "output_type": "stream",
     "text": [
      "[1, 2, 3, 1, 1, 2, 2, 1, 3, 3, 3, 1, 3, 3, 3, 3, 1, 1, 3, 1, 3, 4, 4, 3, 3, 1, 3, 1, 2, 4, 1, 1, 2, 1, 3, 1, 3, 3, 3, 3, 3, 4, 1, 1, 1, 2, 2, 3, 1, 1]\n"
     ]
    }
   ],
   "source": [
    "print(hc_cluster_list)"
   ]
  },
  {
   "cell_type": "markdown",
   "metadata": {},
   "source": [
    "And to use that compare clusters similar to the code in the fifth cell of this notebook:"
   ]
  },
  {
   "cell_type": "code",
   "execution_count": 8,
   "metadata": {},
   "outputs": [
    {
     "name": "stdout",
     "output_type": "stream",
     "text": [
      "The following are the cluster assignments for labels from the DBSCAN result:\n",
      "[0, 0, 1, 0, 0, 0, 0, 0, 1, 1, 1, 0, 1, 1, 1, 1, 0, 0, 1, 0, 1, 2, 2, 1, 1, 0, 1, 0, 0, 2, 0, 0, 0, 0, 1, 0, 1, 1, 1, 1, 1, 2, 0, 0, 0, 0, 0, 1, 0, 0]\n",
      "The following are the cluster assignments for labels from the hierarchichal clustering:\n",
      "[1, 2, 3, 1, 1, 2, 2, 1, 3, 3, 3, 1, 3, 3, 3, 3, 1, 1, 3, 1, 3, 4, 4, 3, 3, 1, 3, 1, 2, 4, 1, 1, 2, 1, 3, 1, 3, 3, 3, 3, 3, 4, 1, 1, 1, 2, 2, 3, 1, 1]\n",
      "The result with `adjusted_rand_score()` comparing the assignments:\n",
      "0.7702787111074139\n"
     ]
    }
   ],
   "source": [
    "import numpy as np\n",
    "print(f\"The following are the cluster assignments for labels from the DBSCAN result:\\n{db_cluster_list}\")\n",
    "print(f\"The following are the cluster assignments for labels from the hierarchichal clustering:\\n{hc_cluster_list}\")\n",
    "from sklearn.metrics.cluster import adjusted_rand_score\n",
    "rand_scor= adjusted_rand_score(db_cluster_list, hc_cluster_list)\n",
    "print(f\"The result with `adjusted_rand_score()` comparing the assignments:\\n{rand_scor}\")"
   ]
  },
  {
   "cell_type": "markdown",
   "metadata": {},
   "source": [
    "Note that this used data from a different run of the clustering approaches, and so it won't quite match the data up at the top of the notebook; it is just meant to illustrate the process from going from the membership report after-the-fact, in case you want to compare cases where you only have the resulting membership report.\n",
    "\n",
    "------\n",
    "------\n",
    "\n",
    "The concepts developed in this notebook are expanded on to address examining the variation betwen two different algorithms repeatedly in the notebook, [Examining variation of clustering results](Examining_variation_of_clustering_results.ipynb).\n",
    "\n",
    "----\n",
    "----"
   ]
  }
 ],
 "metadata": {
  "kernelspec": {
   "display_name": "Python 3",
   "language": "python",
   "name": "python3"
  },
  "language_info": {
   "codemirror_mode": {
    "name": "ipython",
    "version": 3
   },
   "file_extension": ".py",
   "mimetype": "text/x-python",
   "name": "python",
   "nbconvert_exporter": "python",
   "pygments_lexer": "ipython3",
   "version": "3.7.8"
  }
 },
 "nbformat": 4,
 "nbformat_minor": 4
}
