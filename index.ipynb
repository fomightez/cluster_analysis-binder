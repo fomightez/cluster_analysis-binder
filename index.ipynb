{
 "cells": [
  {
   "cell_type": "markdown",
   "metadata": {},
   "source": [
    "# Clustering Analysis in Python demonstration notebooks\n",
    "\n",
    "My collection demonstrating useful clustering analysis algorithms and associated visualizations in Python implemeted in Python.  \n",
    "\n",
    " The four primary classes of clustering algorithms are hierarchical, centroid, density, and statistical. Presently the first three of the four are demonstrated here.\n",
    "\n",
    "Select a notebook from this index.\n",
    "\n",
    "----\n",
    "\n",
    "### Available Demonstration Notebooks\n",
    "\n",
    "- [Hierarchical clustering](Hierarchical_clustering.ipynb)\n",
    "- [Block model and Bi-clustering](block_model_n_biclustering.ipynb)\n",
    "- [*k*-means clustering](k-means.ipynb)\n",
    "- [DBSCAN clustering](dbscan.ipynb)\n",
    "- [HDBSCAN clustering](hdbscan.ipynb)\n",
    "\n",
    "### Coming soon / available at another link\n",
    "\n",
    "- ???????\n",
    "\n",
    "    There is a related notebook available from ????\n",
    "    \n",
    "----\n",
    "    \n",
    "### An interesting related demo by others hosted elsewhere\n",
    "\n",
    "- [Here](https://github.com/cornhundred/citibike-clustergrammer2) shows a heatmap visualization of public data from CITI Bike from July 2019 of over 2.18 million rides, displaying the connections between stations using Clustergrammer2. Go to [there](https://github.com/cornhundred/citibike-clustergrammer2) and press the 'launch binder' button to see the Voila form of the notebook. [Clustergrammer2](https://clustergrammer.readthedocs.io/clustergrammer2.html) is an interactive heatmap Jupyter widget to help researchers interactively explore single cell data (e.g. scRNA-seq). The notebook/Voila page also uses UMAP which is popular for analysis of single cell RNA-seq data (scRNA-seq)."
   ]
  }
 ],
 "metadata": {
  "kernelspec": {
   "display_name": "Python 3",
   "language": "python",
   "name": "python3"
  },
  "language_info": {
   "codemirror_mode": {
    "name": "ipython",
    "version": 3
   },
   "file_extension": ".py",
   "mimetype": "text/x-python",
   "name": "python",
   "nbconvert_exporter": "python",
   "pygments_lexer": "ipython3",
   "version": "3.7.6"
  }
 },
 "nbformat": 4,
 "nbformat_minor": 2
}