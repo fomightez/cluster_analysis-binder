{
 "cells": [
  {
   "cell_type": "markdown",
   "metadata": {},
   "source": [
    "# Clustering Analysis in Python demonstration notebooks\n",
    "\n",
    "My collection demonstrating useful clustering analysis algorithms implemeted in Python. \n The four primary classes of clustering algorithms are hierarchical, centroid, density, and statistical. Presently the first three of the four are demonstrated here.\n",
    "\n",
    "Select a notebook from this index.\n",
    "\n",
    "----\n",
    "\n",
    "### Available Demonstration Notebooks\n",
    "\n",
    "- [Hierarchical clustering](Hierarchical_clustering.ipynb)\n",
    "- [Block model and Bi-clustering](????.ipynb)\n",
    "- [*k*-means clustering](????.ipynb)\n",
    "- [DBSCAN clustering](????.ipynb)\n",
    "- [HDBSCAN clustering](????.ipynb)\n",
    "\n",
    "### Coming soon / available at another link\n",
    "\n",
    "- ???????\n",
    "\n",
    "    There is a related notebook available from ????"
   ]
  }
 ],
 "metadata": {
  "kernelspec": {
   "display_name": "Python 3",
   "language": "python",
   "name": "python3"
  },
  "language_info": {
   "codemirror_mode": {
    "name": "ipython",
    "version": 3
   },
   "file_extension": ".py",
   "mimetype": "text/x-python",
   "name": "python",
   "nbconvert_exporter": "python",
   "pygments_lexer": "ipython3",
   "version": "3.7.2"
  }
 },
 "nbformat": 4,
 "nbformat_minor": 2
}
